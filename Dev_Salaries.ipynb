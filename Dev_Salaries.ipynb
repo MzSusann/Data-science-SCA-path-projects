{
 "cells": [
  {
   "cell_type": "code",
   "execution_count": 1,
   "metadata": {},
   "outputs": [
    {
     "data": {
      "text/html": [
       "<div>\n",
       "<style scoped>\n",
       "    .dataframe tbody tr th:only-of-type {\n",
       "        vertical-align: middle;\n",
       "    }\n",
       "\n",
       "    .dataframe tbody tr th {\n",
       "        vertical-align: top;\n",
       "    }\n",
       "\n",
       "    .dataframe thead th {\n",
       "        text-align: right;\n",
       "    }\n",
       "</style>\n",
       "<table border=\"1\" class=\"dataframe\">\n",
       "  <thead>\n",
       "    <tr style=\"text-align: right;\">\n",
       "      <th></th>\n",
       "      <th>Gender</th>\n",
       "      <th>Countries</th>\n",
       "      <th>Gender/Country</th>\n",
       "      <th>Region</th>\n",
       "      <th>Monthly Salary</th>\n",
       "      <th>Unnamed: 5</th>\n",
       "      <th>Unnamed: 6</th>\n",
       "      <th>Unnamed: 7</th>\n",
       "      <th>Unnamed: 8</th>\n",
       "      <th>Unnamed: 9</th>\n",
       "      <th>Unnamed: 10</th>\n",
       "      <th>Unnamed: 11</th>\n",
       "    </tr>\n",
       "  </thead>\n",
       "  <tbody>\n",
       "    <tr>\n",
       "      <td>0</td>\n",
       "      <td>Female</td>\n",
       "      <td>USA</td>\n",
       "      <td>F-USA</td>\n",
       "      <td>North America</td>\n",
       "      <td>$40,000</td>\n",
       "      <td>NaN</td>\n",
       "      <td>NaN</td>\n",
       "      <td>NaN</td>\n",
       "      <td>NaN</td>\n",
       "      <td>NaN</td>\n",
       "      <td>NaN</td>\n",
       "      <td>NaN</td>\n",
       "    </tr>\n",
       "    <tr>\n",
       "      <td>1</td>\n",
       "      <td>Male</td>\n",
       "      <td>USA</td>\n",
       "      <td>M-USA</td>\n",
       "      <td>North America</td>\n",
       "      <td>$50,000</td>\n",
       "      <td>NaN</td>\n",
       "      <td>NaN</td>\n",
       "      <td>NaN</td>\n",
       "      <td>NaN</td>\n",
       "      <td>NaN</td>\n",
       "      <td>NaN</td>\n",
       "      <td>NaN</td>\n",
       "    </tr>\n",
       "    <tr>\n",
       "      <td>2</td>\n",
       "      <td>Female</td>\n",
       "      <td>Brazil</td>\n",
       "      <td>F-Brazil</td>\n",
       "      <td>South America</td>\n",
       "      <td>$35,000</td>\n",
       "      <td>NaN</td>\n",
       "      <td>NaN</td>\n",
       "      <td>NaN</td>\n",
       "      <td>NaN</td>\n",
       "      <td>NaN</td>\n",
       "      <td>NaN</td>\n",
       "      <td>NaN</td>\n",
       "    </tr>\n",
       "    <tr>\n",
       "      <td>3</td>\n",
       "      <td>Male</td>\n",
       "      <td>Brazil</td>\n",
       "      <td>M-Brazil</td>\n",
       "      <td>South America</td>\n",
       "      <td>$45,000</td>\n",
       "      <td>NaN</td>\n",
       "      <td>NaN</td>\n",
       "      <td>NaN</td>\n",
       "      <td>NaN</td>\n",
       "      <td>NaN</td>\n",
       "      <td>NaN</td>\n",
       "      <td>NaN</td>\n",
       "    </tr>\n",
       "    <tr>\n",
       "      <td>4</td>\n",
       "      <td>Female</td>\n",
       "      <td>Nigeria</td>\n",
       "      <td>F-Nig</td>\n",
       "      <td>Africa</td>\n",
       "      <td>$23,000</td>\n",
       "      <td>NaN</td>\n",
       "      <td>NaN</td>\n",
       "      <td>NaN</td>\n",
       "      <td>NaN</td>\n",
       "      <td>NaN</td>\n",
       "      <td>NaN</td>\n",
       "      <td>NaN</td>\n",
       "    </tr>\n",
       "    <tr>\n",
       "      <td>5</td>\n",
       "      <td>Male</td>\n",
       "      <td>Nigeria</td>\n",
       "      <td>M-Nig</td>\n",
       "      <td>Africa</td>\n",
       "      <td>$53,000</td>\n",
       "      <td>NaN</td>\n",
       "      <td>NaN</td>\n",
       "      <td>NaN</td>\n",
       "      <td>NaN</td>\n",
       "      <td>NaN</td>\n",
       "      <td>NaN</td>\n",
       "      <td>NaN</td>\n",
       "    </tr>\n",
       "    <tr>\n",
       "      <td>6</td>\n",
       "      <td>Female</td>\n",
       "      <td>Uganda</td>\n",
       "      <td>F-Uganda</td>\n",
       "      <td>Africa</td>\n",
       "      <td>$10,000</td>\n",
       "      <td>NaN</td>\n",
       "      <td>NaN</td>\n",
       "      <td>NaN</td>\n",
       "      <td>NaN</td>\n",
       "      <td>NaN</td>\n",
       "      <td>NaN</td>\n",
       "      <td>NaN</td>\n",
       "    </tr>\n",
       "    <tr>\n",
       "      <td>7</td>\n",
       "      <td>Male</td>\n",
       "      <td>Uganda</td>\n",
       "      <td>M-Uganda</td>\n",
       "      <td>Africa</td>\n",
       "      <td>$20,000</td>\n",
       "      <td>NaN</td>\n",
       "      <td>NaN</td>\n",
       "      <td>NaN</td>\n",
       "      <td>NaN</td>\n",
       "      <td>NaN</td>\n",
       "      <td>NaN</td>\n",
       "      <td>NaN</td>\n",
       "    </tr>\n",
       "    <tr>\n",
       "      <td>8</td>\n",
       "      <td>Female</td>\n",
       "      <td>China</td>\n",
       "      <td>F-China</td>\n",
       "      <td>Asia</td>\n",
       "      <td>$55,000</td>\n",
       "      <td>NaN</td>\n",
       "      <td>NaN</td>\n",
       "      <td>NaN</td>\n",
       "      <td>NaN</td>\n",
       "      <td>NaN</td>\n",
       "      <td>NaN</td>\n",
       "      <td>NaN</td>\n",
       "    </tr>\n",
       "    <tr>\n",
       "      <td>9</td>\n",
       "      <td>Male</td>\n",
       "      <td>China</td>\n",
       "      <td>M-China</td>\n",
       "      <td>Asia</td>\n",
       "      <td>$75,000</td>\n",
       "      <td>NaN</td>\n",
       "      <td>NaN</td>\n",
       "      <td>NaN</td>\n",
       "      <td>NaN</td>\n",
       "      <td>NaN</td>\n",
       "      <td>NaN</td>\n",
       "      <td>NaN</td>\n",
       "    </tr>\n",
       "  </tbody>\n",
       "</table>\n",
       "</div>"
      ],
      "text/plain": [
       "   Gender Countries Gender/Country         Region Monthly Salary  Unnamed: 5  \\\n",
       "0  Female       USA          F-USA  North America       $40,000          NaN   \n",
       "1    Male       USA          M-USA  North America       $50,000          NaN   \n",
       "2  Female    Brazil       F-Brazil  South America       $35,000          NaN   \n",
       "3    Male    Brazil       M-Brazil  South America       $45,000          NaN   \n",
       "4  Female   Nigeria          F-Nig         Africa       $23,000          NaN   \n",
       "5    Male   Nigeria          M-Nig         Africa       $53,000          NaN   \n",
       "6  Female    Uganda       F-Uganda         Africa       $10,000          NaN   \n",
       "7    Male    Uganda       M-Uganda         Africa       $20,000          NaN   \n",
       "8  Female     China        F-China           Asia       $55,000          NaN   \n",
       "9    Male     China        M-China           Asia       $75,000          NaN   \n",
       "\n",
       "   Unnamed: 6  Unnamed: 7  Unnamed: 8  Unnamed: 9  Unnamed: 10  Unnamed: 11  \n",
       "0         NaN         NaN         NaN         NaN          NaN          NaN  \n",
       "1         NaN         NaN         NaN         NaN          NaN          NaN  \n",
       "2         NaN         NaN         NaN         NaN          NaN          NaN  \n",
       "3         NaN         NaN         NaN         NaN          NaN          NaN  \n",
       "4         NaN         NaN         NaN         NaN          NaN          NaN  \n",
       "5         NaN         NaN         NaN         NaN          NaN          NaN  \n",
       "6         NaN         NaN         NaN         NaN          NaN          NaN  \n",
       "7         NaN         NaN         NaN         NaN          NaN          NaN  \n",
       "8         NaN         NaN         NaN         NaN          NaN          NaN  \n",
       "9         NaN         NaN         NaN         NaN          NaN          NaN  "
      ]
     },
     "execution_count": 1,
     "metadata": {},
     "output_type": "execute_result"
    }
   ],
   "source": [
    "#converting the excel sheet to pandas\n",
    "\n",
    "import pandas as pd\n",
    "import numpy as np\n",
    "import matplotlib.pyplot as plt\n",
    "\n",
    "dev_salaries = pd.read_csv('salaries of developers.csv')\n",
    "dev_salaries"
   ]
  },
  {
   "cell_type": "code",
   "execution_count": 2,
   "metadata": {},
   "outputs": [
    {
     "data": {
      "text/html": [
       "<div>\n",
       "<style scoped>\n",
       "    .dataframe tbody tr th:only-of-type {\n",
       "        vertical-align: middle;\n",
       "    }\n",
       "\n",
       "    .dataframe tbody tr th {\n",
       "        vertical-align: top;\n",
       "    }\n",
       "\n",
       "    .dataframe thead th {\n",
       "        text-align: right;\n",
       "    }\n",
       "</style>\n",
       "<table border=\"1\" class=\"dataframe\">\n",
       "  <thead>\n",
       "    <tr style=\"text-align: right;\">\n",
       "      <th></th>\n",
       "      <th>Gender</th>\n",
       "      <th>Countries</th>\n",
       "      <th>Gender/Country</th>\n",
       "      <th>Region</th>\n",
       "      <th>Monthly Salary</th>\n",
       "    </tr>\n",
       "  </thead>\n",
       "  <tbody>\n",
       "    <tr>\n",
       "      <td>0</td>\n",
       "      <td>Female</td>\n",
       "      <td>USA</td>\n",
       "      <td>F-USA</td>\n",
       "      <td>North America</td>\n",
       "      <td>$40,000</td>\n",
       "    </tr>\n",
       "    <tr>\n",
       "      <td>1</td>\n",
       "      <td>Male</td>\n",
       "      <td>USA</td>\n",
       "      <td>M-USA</td>\n",
       "      <td>North America</td>\n",
       "      <td>$50,000</td>\n",
       "    </tr>\n",
       "    <tr>\n",
       "      <td>2</td>\n",
       "      <td>Female</td>\n",
       "      <td>Brazil</td>\n",
       "      <td>F-Brazil</td>\n",
       "      <td>South America</td>\n",
       "      <td>$35,000</td>\n",
       "    </tr>\n",
       "    <tr>\n",
       "      <td>3</td>\n",
       "      <td>Male</td>\n",
       "      <td>Brazil</td>\n",
       "      <td>M-Brazil</td>\n",
       "      <td>South America</td>\n",
       "      <td>$45,000</td>\n",
       "    </tr>\n",
       "    <tr>\n",
       "      <td>4</td>\n",
       "      <td>Female</td>\n",
       "      <td>Nigeria</td>\n",
       "      <td>F-Nig</td>\n",
       "      <td>Africa</td>\n",
       "      <td>$23,000</td>\n",
       "    </tr>\n",
       "    <tr>\n",
       "      <td>5</td>\n",
       "      <td>Male</td>\n",
       "      <td>Nigeria</td>\n",
       "      <td>M-Nig</td>\n",
       "      <td>Africa</td>\n",
       "      <td>$53,000</td>\n",
       "    </tr>\n",
       "    <tr>\n",
       "      <td>6</td>\n",
       "      <td>Female</td>\n",
       "      <td>Uganda</td>\n",
       "      <td>F-Uganda</td>\n",
       "      <td>Africa</td>\n",
       "      <td>$10,000</td>\n",
       "    </tr>\n",
       "    <tr>\n",
       "      <td>7</td>\n",
       "      <td>Male</td>\n",
       "      <td>Uganda</td>\n",
       "      <td>M-Uganda</td>\n",
       "      <td>Africa</td>\n",
       "      <td>$20,000</td>\n",
       "    </tr>\n",
       "    <tr>\n",
       "      <td>8</td>\n",
       "      <td>Female</td>\n",
       "      <td>China</td>\n",
       "      <td>F-China</td>\n",
       "      <td>Asia</td>\n",
       "      <td>$55,000</td>\n",
       "    </tr>\n",
       "    <tr>\n",
       "      <td>9</td>\n",
       "      <td>Male</td>\n",
       "      <td>China</td>\n",
       "      <td>M-China</td>\n",
       "      <td>Asia</td>\n",
       "      <td>$75,000</td>\n",
       "    </tr>\n",
       "  </tbody>\n",
       "</table>\n",
       "</div>"
      ],
      "text/plain": [
       "   Gender Countries Gender/Country         Region Monthly Salary\n",
       "0  Female       USA          F-USA  North America       $40,000 \n",
       "1    Male       USA          M-USA  North America       $50,000 \n",
       "2  Female    Brazil       F-Brazil  South America       $35,000 \n",
       "3    Male    Brazil       M-Brazil  South America       $45,000 \n",
       "4  Female   Nigeria          F-Nig         Africa       $23,000 \n",
       "5    Male   Nigeria          M-Nig         Africa       $53,000 \n",
       "6  Female    Uganda       F-Uganda         Africa       $10,000 \n",
       "7    Male    Uganda       M-Uganda         Africa       $20,000 \n",
       "8  Female     China        F-China           Asia       $55,000 \n",
       "9    Male     China        M-China           Asia       $75,000 "
      ]
     },
     "execution_count": 2,
     "metadata": {},
     "output_type": "execute_result"
    }
   ],
   "source": [
    "#Specifying the columns needed\n",
    "import pandas as pd\n",
    "\n",
    "dev_salariespd = pd.read_csv('salaries of developers.csv', usecols = ['Gender', 'Countries','Gender/Country','Region','Monthly Salary'])\n",
    "dev_salariespd\n"
   ]
  },
  {
   "cell_type": "code",
   "execution_count": 3,
   "metadata": {},
   "outputs": [
    {
     "data": {
      "text/plain": [
       "0    40000.0\n",
       "1    50000.0\n",
       "2    35000.0\n",
       "3    45000.0\n",
       "4    23000.0\n",
       "5    53000.0\n",
       "6    10000.0\n",
       "7    20000.0\n",
       "8    55000.0\n",
       "9    75000.0\n",
       "Name: Monthly Salary, dtype: float64"
      ]
     },
     "execution_count": 3,
     "metadata": {},
     "output_type": "execute_result"
    }
   ],
   "source": [
    "#remove the space, dollar sign, and commas, and convert to a float\n",
    "\n",
    "strip = dev_salariespd['Monthly Salary'].str.rstrip()\n",
    "stripped = strip.str.lstrip('$')\n",
    "strippped = stripped.str.replace(\",\",\"\").astype(float)\n",
    "\n",
    "strippped"
   ]
  },
  {
   "cell_type": "code",
   "execution_count": 4,
   "metadata": {},
   "outputs": [
    {
     "data": {
      "text/html": [
       "<div>\n",
       "<style scoped>\n",
       "    .dataframe tbody tr th:only-of-type {\n",
       "        vertical-align: middle;\n",
       "    }\n",
       "\n",
       "    .dataframe tbody tr th {\n",
       "        vertical-align: top;\n",
       "    }\n",
       "\n",
       "    .dataframe thead th {\n",
       "        text-align: right;\n",
       "    }\n",
       "</style>\n",
       "<table border=\"1\" class=\"dataframe\">\n",
       "  <thead>\n",
       "    <tr style=\"text-align: right;\">\n",
       "      <th></th>\n",
       "      <th>Gender</th>\n",
       "      <th>Countries</th>\n",
       "      <th>Gender/Country</th>\n",
       "      <th>Region</th>\n",
       "      <th>Monthly Salary</th>\n",
       "    </tr>\n",
       "  </thead>\n",
       "  <tbody>\n",
       "    <tr>\n",
       "      <td>0</td>\n",
       "      <td>Female</td>\n",
       "      <td>USA</td>\n",
       "      <td>F-USA</td>\n",
       "      <td>North America</td>\n",
       "      <td>40000.0</td>\n",
       "    </tr>\n",
       "    <tr>\n",
       "      <td>1</td>\n",
       "      <td>Male</td>\n",
       "      <td>USA</td>\n",
       "      <td>M-USA</td>\n",
       "      <td>North America</td>\n",
       "      <td>50000.0</td>\n",
       "    </tr>\n",
       "    <tr>\n",
       "      <td>2</td>\n",
       "      <td>Female</td>\n",
       "      <td>Brazil</td>\n",
       "      <td>F-Brazil</td>\n",
       "      <td>South America</td>\n",
       "      <td>35000.0</td>\n",
       "    </tr>\n",
       "    <tr>\n",
       "      <td>3</td>\n",
       "      <td>Male</td>\n",
       "      <td>Brazil</td>\n",
       "      <td>M-Brazil</td>\n",
       "      <td>South America</td>\n",
       "      <td>45000.0</td>\n",
       "    </tr>\n",
       "    <tr>\n",
       "      <td>4</td>\n",
       "      <td>Female</td>\n",
       "      <td>Nigeria</td>\n",
       "      <td>F-Nig</td>\n",
       "      <td>Africa</td>\n",
       "      <td>23000.0</td>\n",
       "    </tr>\n",
       "    <tr>\n",
       "      <td>5</td>\n",
       "      <td>Male</td>\n",
       "      <td>Nigeria</td>\n",
       "      <td>M-Nig</td>\n",
       "      <td>Africa</td>\n",
       "      <td>53000.0</td>\n",
       "    </tr>\n",
       "    <tr>\n",
       "      <td>6</td>\n",
       "      <td>Female</td>\n",
       "      <td>Uganda</td>\n",
       "      <td>F-Uganda</td>\n",
       "      <td>Africa</td>\n",
       "      <td>10000.0</td>\n",
       "    </tr>\n",
       "    <tr>\n",
       "      <td>7</td>\n",
       "      <td>Male</td>\n",
       "      <td>Uganda</td>\n",
       "      <td>M-Uganda</td>\n",
       "      <td>Africa</td>\n",
       "      <td>20000.0</td>\n",
       "    </tr>\n",
       "    <tr>\n",
       "      <td>8</td>\n",
       "      <td>Female</td>\n",
       "      <td>China</td>\n",
       "      <td>F-China</td>\n",
       "      <td>Asia</td>\n",
       "      <td>55000.0</td>\n",
       "    </tr>\n",
       "    <tr>\n",
       "      <td>9</td>\n",
       "      <td>Male</td>\n",
       "      <td>China</td>\n",
       "      <td>M-China</td>\n",
       "      <td>Asia</td>\n",
       "      <td>75000.0</td>\n",
       "    </tr>\n",
       "  </tbody>\n",
       "</table>\n",
       "</div>"
      ],
      "text/plain": [
       "   Gender Countries Gender/Country         Region  Monthly Salary\n",
       "0  Female       USA          F-USA  North America         40000.0\n",
       "1    Male       USA          M-USA  North America         50000.0\n",
       "2  Female    Brazil       F-Brazil  South America         35000.0\n",
       "3    Male    Brazil       M-Brazil  South America         45000.0\n",
       "4  Female   Nigeria          F-Nig         Africa         23000.0\n",
       "5    Male   Nigeria          M-Nig         Africa         53000.0\n",
       "6  Female    Uganda       F-Uganda         Africa         10000.0\n",
       "7    Male    Uganda       M-Uganda         Africa         20000.0\n",
       "8  Female     China        F-China           Asia         55000.0\n",
       "9    Male     China        M-China           Asia         75000.0"
      ]
     },
     "execution_count": 4,
     "metadata": {},
     "output_type": "execute_result"
    }
   ],
   "source": [
    "#Now assign it back to Monthly Salary\n",
    "\n",
    "dev_salariespd['Monthly Salary'] = strippped\n",
    "dev_salariespd"
   ]
  },
  {
   "cell_type": "code",
   "execution_count": 12,
   "metadata": {},
   "outputs": [
    {
     "data": {
      "text/html": [
       "<div>\n",
       "<style scoped>\n",
       "    .dataframe tbody tr th:only-of-type {\n",
       "        vertical-align: middle;\n",
       "    }\n",
       "\n",
       "    .dataframe tbody tr th {\n",
       "        vertical-align: top;\n",
       "    }\n",
       "\n",
       "    .dataframe thead th {\n",
       "        text-align: right;\n",
       "    }\n",
       "</style>\n",
       "<table border=\"1\" class=\"dataframe\">\n",
       "  <thead>\n",
       "    <tr style=\"text-align: right;\">\n",
       "      <th></th>\n",
       "      <th>Gender</th>\n",
       "      <th>Countries</th>\n",
       "      <th>Gender/Country</th>\n",
       "      <th>Region</th>\n",
       "      <th>Monthly Salary</th>\n",
       "      <th>Hourly Salary</th>\n",
       "      <th>Annual Salary</th>\n",
       "      <th>Overtime Salary</th>\n",
       "    </tr>\n",
       "  </thead>\n",
       "  <tbody>\n",
       "    <tr>\n",
       "      <td>0</td>\n",
       "      <td>Female</td>\n",
       "      <td>USA</td>\n",
       "      <td>F-USA</td>\n",
       "      <td>North America</td>\n",
       "      <td>40000.0</td>\n",
       "      <td>238.095238</td>\n",
       "      <td>480000.0</td>\n",
       "      <td>285.714286</td>\n",
       "    </tr>\n",
       "    <tr>\n",
       "      <td>1</td>\n",
       "      <td>Male</td>\n",
       "      <td>USA</td>\n",
       "      <td>M-USA</td>\n",
       "      <td>North America</td>\n",
       "      <td>50000.0</td>\n",
       "      <td>297.619048</td>\n",
       "      <td>600000.0</td>\n",
       "      <td>357.142857</td>\n",
       "    </tr>\n",
       "    <tr>\n",
       "      <td>2</td>\n",
       "      <td>Female</td>\n",
       "      <td>Brazil</td>\n",
       "      <td>F-Brazil</td>\n",
       "      <td>South America</td>\n",
       "      <td>35000.0</td>\n",
       "      <td>208.333333</td>\n",
       "      <td>420000.0</td>\n",
       "      <td>250.000000</td>\n",
       "    </tr>\n",
       "    <tr>\n",
       "      <td>3</td>\n",
       "      <td>Male</td>\n",
       "      <td>Brazil</td>\n",
       "      <td>M-Brazil</td>\n",
       "      <td>South America</td>\n",
       "      <td>45000.0</td>\n",
       "      <td>267.857143</td>\n",
       "      <td>540000.0</td>\n",
       "      <td>321.428571</td>\n",
       "    </tr>\n",
       "    <tr>\n",
       "      <td>4</td>\n",
       "      <td>Female</td>\n",
       "      <td>Nigeria</td>\n",
       "      <td>F-Nig</td>\n",
       "      <td>Africa</td>\n",
       "      <td>23000.0</td>\n",
       "      <td>136.904762</td>\n",
       "      <td>276000.0</td>\n",
       "      <td>164.285714</td>\n",
       "    </tr>\n",
       "    <tr>\n",
       "      <td>5</td>\n",
       "      <td>Male</td>\n",
       "      <td>Nigeria</td>\n",
       "      <td>M-Nig</td>\n",
       "      <td>Africa</td>\n",
       "      <td>53000.0</td>\n",
       "      <td>315.476190</td>\n",
       "      <td>636000.0</td>\n",
       "      <td>378.571429</td>\n",
       "    </tr>\n",
       "    <tr>\n",
       "      <td>6</td>\n",
       "      <td>Female</td>\n",
       "      <td>Uganda</td>\n",
       "      <td>F-Uganda</td>\n",
       "      <td>Africa</td>\n",
       "      <td>10000.0</td>\n",
       "      <td>59.523810</td>\n",
       "      <td>120000.0</td>\n",
       "      <td>71.428571</td>\n",
       "    </tr>\n",
       "    <tr>\n",
       "      <td>7</td>\n",
       "      <td>Male</td>\n",
       "      <td>Uganda</td>\n",
       "      <td>M-Uganda</td>\n",
       "      <td>Africa</td>\n",
       "      <td>20000.0</td>\n",
       "      <td>119.047619</td>\n",
       "      <td>240000.0</td>\n",
       "      <td>142.857143</td>\n",
       "    </tr>\n",
       "    <tr>\n",
       "      <td>8</td>\n",
       "      <td>Female</td>\n",
       "      <td>China</td>\n",
       "      <td>F-China</td>\n",
       "      <td>Asia</td>\n",
       "      <td>55000.0</td>\n",
       "      <td>327.380952</td>\n",
       "      <td>660000.0</td>\n",
       "      <td>392.857143</td>\n",
       "    </tr>\n",
       "    <tr>\n",
       "      <td>9</td>\n",
       "      <td>Male</td>\n",
       "      <td>China</td>\n",
       "      <td>M-China</td>\n",
       "      <td>Asia</td>\n",
       "      <td>75000.0</td>\n",
       "      <td>446.428571</td>\n",
       "      <td>900000.0</td>\n",
       "      <td>535.714286</td>\n",
       "    </tr>\n",
       "  </tbody>\n",
       "</table>\n",
       "</div>"
      ],
      "text/plain": [
       "   Gender Countries Gender/Country         Region  Monthly Salary  \\\n",
       "0  Female       USA          F-USA  North America         40000.0   \n",
       "1    Male       USA          M-USA  North America         50000.0   \n",
       "2  Female    Brazil       F-Brazil  South America         35000.0   \n",
       "3    Male    Brazil       M-Brazil  South America         45000.0   \n",
       "4  Female   Nigeria          F-Nig         Africa         23000.0   \n",
       "5    Male   Nigeria          M-Nig         Africa         53000.0   \n",
       "6  Female    Uganda       F-Uganda         Africa         10000.0   \n",
       "7    Male    Uganda       M-Uganda         Africa         20000.0   \n",
       "8  Female     China        F-China           Asia         55000.0   \n",
       "9    Male     China        M-China           Asia         75000.0   \n",
       "\n",
       "   Hourly Salary  Annual Salary  Overtime Salary  \n",
       "0     238.095238       480000.0       285.714286  \n",
       "1     297.619048       600000.0       357.142857  \n",
       "2     208.333333       420000.0       250.000000  \n",
       "3     267.857143       540000.0       321.428571  \n",
       "4     136.904762       276000.0       164.285714  \n",
       "5     315.476190       636000.0       378.571429  \n",
       "6      59.523810       120000.0        71.428571  \n",
       "7     119.047619       240000.0       142.857143  \n",
       "8     327.380952       660000.0       392.857143  \n",
       "9     446.428571       900000.0       535.714286  "
      ]
     },
     "execution_count": 12,
     "metadata": {},
     "output_type": "execute_result"
    }
   ],
   "source": [
    "#Calculating the Annual, Hourly and Overtime Salary\n",
    "\n",
    "Annual_Salary = 12 * dev_salariespd['Monthly Salary']\n",
    "Hourly_Salary = dev_salariespd['Monthly Salary'] / 168 #Using 8hrs/day, 40hrs/week, 168hrs/month\n",
    "#Overtime_Salary = dev_salariespd['Hourly Salary'] + (0.2 * dev_salariespd['Hourly Salary'])\n",
    "over = 0.2 * dev_salariespd['Hourly Salary']\n",
    "Overtime_Salary = over + dev_salariespd['Hourly Salary']\n",
    "\n",
    "dev_salariespd['Hourly Salary'] = Hourly_Salary \n",
    "dev_salariespd['Annual Salary'] = Annual_Salary \n",
    "dev_salariespd['Overtime Salary'] = Overtime_Salary\n",
    "  \n",
    "# Observe the result \n",
    "dev_salariespd"
   ]
  },
  {
   "cell_type": "code",
   "execution_count": 13,
   "metadata": {
    "scrolled": false
   },
   "outputs": [
    {
     "data": {
      "text/html": [
       "<div>\n",
       "<style scoped>\n",
       "    .dataframe tbody tr th:only-of-type {\n",
       "        vertical-align: middle;\n",
       "    }\n",
       "\n",
       "    .dataframe tbody tr th {\n",
       "        vertical-align: top;\n",
       "    }\n",
       "\n",
       "    .dataframe thead th {\n",
       "        text-align: right;\n",
       "    }\n",
       "</style>\n",
       "<table border=\"1\" class=\"dataframe\">\n",
       "  <thead>\n",
       "    <tr style=\"text-align: right;\">\n",
       "      <th></th>\n",
       "      <th>Gender</th>\n",
       "      <th>Countries</th>\n",
       "      <th>Gender/Country</th>\n",
       "      <th>Region</th>\n",
       "      <th>Monthly Salary</th>\n",
       "      <th>Hourly Salary</th>\n",
       "      <th>Annual Salary</th>\n",
       "      <th>Overtime Salary</th>\n",
       "      <th>Bonus Pay</th>\n",
       "    </tr>\n",
       "  </thead>\n",
       "  <tbody>\n",
       "    <tr>\n",
       "      <td>0</td>\n",
       "      <td>Female</td>\n",
       "      <td>USA</td>\n",
       "      <td>F-USA</td>\n",
       "      <td>North America</td>\n",
       "      <td>40000.0</td>\n",
       "      <td>238.095238</td>\n",
       "      <td>480000.0</td>\n",
       "      <td>285.714286</td>\n",
       "      <td>499200.0</td>\n",
       "    </tr>\n",
       "    <tr>\n",
       "      <td>1</td>\n",
       "      <td>Male</td>\n",
       "      <td>USA</td>\n",
       "      <td>M-USA</td>\n",
       "      <td>North America</td>\n",
       "      <td>50000.0</td>\n",
       "      <td>297.619048</td>\n",
       "      <td>600000.0</td>\n",
       "      <td>357.142857</td>\n",
       "      <td>624000.0</td>\n",
       "    </tr>\n",
       "    <tr>\n",
       "      <td>2</td>\n",
       "      <td>Female</td>\n",
       "      <td>Brazil</td>\n",
       "      <td>F-Brazil</td>\n",
       "      <td>South America</td>\n",
       "      <td>35000.0</td>\n",
       "      <td>208.333333</td>\n",
       "      <td>420000.0</td>\n",
       "      <td>250.000000</td>\n",
       "      <td>432600.0</td>\n",
       "    </tr>\n",
       "    <tr>\n",
       "      <td>3</td>\n",
       "      <td>Male</td>\n",
       "      <td>Brazil</td>\n",
       "      <td>M-Brazil</td>\n",
       "      <td>South America</td>\n",
       "      <td>45000.0</td>\n",
       "      <td>267.857143</td>\n",
       "      <td>540000.0</td>\n",
       "      <td>321.428571</td>\n",
       "      <td>556200.0</td>\n",
       "    </tr>\n",
       "    <tr>\n",
       "      <td>4</td>\n",
       "      <td>Female</td>\n",
       "      <td>Nigeria</td>\n",
       "      <td>F-Nig</td>\n",
       "      <td>Africa</td>\n",
       "      <td>23000.0</td>\n",
       "      <td>136.904762</td>\n",
       "      <td>276000.0</td>\n",
       "      <td>164.285714</td>\n",
       "      <td>287040.0</td>\n",
       "    </tr>\n",
       "    <tr>\n",
       "      <td>5</td>\n",
       "      <td>Male</td>\n",
       "      <td>Nigeria</td>\n",
       "      <td>M-Nig</td>\n",
       "      <td>Africa</td>\n",
       "      <td>53000.0</td>\n",
       "      <td>315.476190</td>\n",
       "      <td>636000.0</td>\n",
       "      <td>378.571429</td>\n",
       "      <td>661440.0</td>\n",
       "    </tr>\n",
       "    <tr>\n",
       "      <td>6</td>\n",
       "      <td>Female</td>\n",
       "      <td>Uganda</td>\n",
       "      <td>F-Uganda</td>\n",
       "      <td>Africa</td>\n",
       "      <td>10000.0</td>\n",
       "      <td>59.523810</td>\n",
       "      <td>120000.0</td>\n",
       "      <td>71.428571</td>\n",
       "      <td>124800.0</td>\n",
       "    </tr>\n",
       "    <tr>\n",
       "      <td>7</td>\n",
       "      <td>Male</td>\n",
       "      <td>Uganda</td>\n",
       "      <td>M-Uganda</td>\n",
       "      <td>Africa</td>\n",
       "      <td>20000.0</td>\n",
       "      <td>119.047619</td>\n",
       "      <td>240000.0</td>\n",
       "      <td>142.857143</td>\n",
       "      <td>249600.0</td>\n",
       "    </tr>\n",
       "    <tr>\n",
       "      <td>8</td>\n",
       "      <td>Female</td>\n",
       "      <td>China</td>\n",
       "      <td>F-China</td>\n",
       "      <td>Asia</td>\n",
       "      <td>55000.0</td>\n",
       "      <td>327.380952</td>\n",
       "      <td>660000.0</td>\n",
       "      <td>392.857143</td>\n",
       "      <td>679800.0</td>\n",
       "    </tr>\n",
       "    <tr>\n",
       "      <td>9</td>\n",
       "      <td>Male</td>\n",
       "      <td>China</td>\n",
       "      <td>M-China</td>\n",
       "      <td>Asia</td>\n",
       "      <td>75000.0</td>\n",
       "      <td>446.428571</td>\n",
       "      <td>900000.0</td>\n",
       "      <td>535.714286</td>\n",
       "      <td>927000.0</td>\n",
       "    </tr>\n",
       "  </tbody>\n",
       "</table>\n",
       "</div>"
      ],
      "text/plain": [
       "   Gender Countries Gender/Country         Region  Monthly Salary  \\\n",
       "0  Female       USA          F-USA  North America         40000.0   \n",
       "1    Male       USA          M-USA  North America         50000.0   \n",
       "2  Female    Brazil       F-Brazil  South America         35000.0   \n",
       "3    Male    Brazil       M-Brazil  South America         45000.0   \n",
       "4  Female   Nigeria          F-Nig         Africa         23000.0   \n",
       "5    Male   Nigeria          M-Nig         Africa         53000.0   \n",
       "6  Female    Uganda       F-Uganda         Africa         10000.0   \n",
       "7    Male    Uganda       M-Uganda         Africa         20000.0   \n",
       "8  Female     China        F-China           Asia         55000.0   \n",
       "9    Male     China        M-China           Asia         75000.0   \n",
       "\n",
       "   Hourly Salary  Annual Salary  Overtime Salary  Bonus Pay  \n",
       "0     238.095238       480000.0       285.714286   499200.0  \n",
       "1     297.619048       600000.0       357.142857   624000.0  \n",
       "2     208.333333       420000.0       250.000000   432600.0  \n",
       "3     267.857143       540000.0       321.428571   556200.0  \n",
       "4     136.904762       276000.0       164.285714   287040.0  \n",
       "5     315.476190       636000.0       378.571429   661440.0  \n",
       "6      59.523810       120000.0        71.428571   124800.0  \n",
       "7     119.047619       240000.0       142.857143   249600.0  \n",
       "8     327.380952       660000.0       392.857143   679800.0  \n",
       "9     446.428571       900000.0       535.714286   927000.0  "
      ]
     },
     "execution_count": 13,
     "metadata": {},
     "output_type": "execute_result"
    }
   ],
   "source": [
    "#Calculate the Bonus Pay Using OR \n",
    "\n",
    "Bonus_Pay3 = dev_salariespd['Annual Salary'] + (0.03 * dev_salariespd['Annual Salary'])\n",
    "Bonus_Pay4 = dev_salariespd['Annual Salary'] + (0.04 * dev_salariespd['Annual Salary'])\n",
    "\n",
    "dev_salariespd.loc[(dev_salariespd['Region'] == 'Asia') | (dev_salariespd['Region'] == 'South America'), 'Bonus Pay'] = Bonus_Pay3\n",
    "dev_salariespd.loc[(dev_salariespd['Region'] == 'Africa') | (dev_salariespd['Region'] == 'North America'), 'Bonus Pay'] = Bonus_Pay4\n",
    "dev_salariespd\n"
   ]
  },
  {
   "cell_type": "code",
   "execution_count": 14,
   "metadata": {},
   "outputs": [
    {
     "name": "stdout",
     "output_type": "stream",
     "text": [
      "Gender             FemaleMaleFemaleMaleFemaleMaleFemaleMaleFemale...\n",
      "Countries          USAUSABrazilBrazilNigeriaNigeriaUgandaUgandaCh...\n",
      "Gender/Country     F-USAM-USAF-BrazilM-BrazilF-NigM-NigF-UgandaM-...\n",
      "Region             North AmericaNorth AmericaSouth AmericaSouth A...\n",
      "Monthly Salary                                                406000\n",
      "Hourly Salary                                                2416.67\n",
      "Annual Salary                                              4.872e+06\n",
      "Overtime Salary                                                 2900\n",
      "Bonus Pay                                                5.04168e+06\n",
      "dtype: object\n"
     ]
    }
   ],
   "source": [
    "#Calculate the sum of all salaries\n",
    "\n",
    "dev_salariespdsum = dev_salariespd.sum(axis=0)\n",
    "print(dev_salariespdsum)"
   ]
  },
  {
   "cell_type": "code",
   "execution_count": 15,
   "metadata": {},
   "outputs": [
    {
     "name": "stdout",
     "output_type": "stream",
     "text": [
      "   Gender Countries Gender/Country         Region  Monthly Salary  \\\n",
      "0  Female       USA          F-USA  North America         40000.0   \n",
      "2  Female    Brazil       F-Brazil  South America         35000.0   \n",
      "4  Female   Nigeria          F-Nig         Africa         23000.0   \n",
      "6  Female    Uganda       F-Uganda         Africa         10000.0   \n",
      "8  Female     China        F-China           Asia         55000.0   \n",
      "\n",
      "   Hourly Salary  Annual Salary  Overtime Salary  Bonus Pay  \n",
      "0     238.095238       480000.0       285.714286   499200.0  \n",
      "2     208.333333       420000.0       250.000000   432600.0  \n",
      "4     136.904762       276000.0       164.285714   287040.0  \n",
      "6      59.523810       120000.0        71.428571   124800.0  \n",
      "8     327.380952       660000.0       392.857143   679800.0  \n",
      "This is the Monthly Salary for Female:  163000.0\n",
      "This is the Annual Salary for Female:  1956000.0\n",
      "This is the Hourly Salary for Female:  970.2380952380953\n",
      "This is the Overtime Salary for Female:  1164.2857142857142\n",
      "This is the Bonus Pay for Female:  2023440.0\n"
     ]
    }
   ],
   "source": [
    "#sum of all salaries by gender(Females)\n",
    "\n",
    "dev_female = dev_salariespd.loc[(dev_salariespd['Gender'] == 'Female')] #Access the Female Gender first\n",
    "print(dev_female)\n",
    "\n",
    "print('This is the Monthly Salary for Female: ', dev_female['Monthly Salary'].sum())\n",
    "print('This is the Annual Salary for Female: ', dev_female['Annual Salary'].sum())\n",
    "print('This is the Hourly Salary for Female: ', dev_female['Hourly Salary'].sum()) \n",
    "print('This is the Overtime Salary for Female: ', dev_female['Overtime Salary'].sum()) \n",
    "print('This is the Bonus Pay for Female: ', dev_female['Bonus Pay'].sum()) "
   ]
  },
  {
   "cell_type": "code",
   "execution_count": 16,
   "metadata": {},
   "outputs": [
    {
     "name": "stdout",
     "output_type": "stream",
     "text": [
      "  Gender Countries Gender/Country         Region  Monthly Salary  \\\n",
      "1   Male       USA          M-USA  North America         50000.0   \n",
      "3   Male    Brazil       M-Brazil  South America         45000.0   \n",
      "5   Male   Nigeria          M-Nig         Africa         53000.0   \n",
      "7   Male    Uganda       M-Uganda         Africa         20000.0   \n",
      "9   Male     China        M-China           Asia         75000.0   \n",
      "\n",
      "   Hourly Salary  Annual Salary  Overtime Salary  Bonus Pay  \n",
      "1     297.619048       600000.0       357.142857   624000.0  \n",
      "3     267.857143       540000.0       321.428571   556200.0  \n",
      "5     315.476190       636000.0       378.571429   661440.0  \n",
      "7     119.047619       240000.0       142.857143   249600.0  \n",
      "9     446.428571       900000.0       535.714286   927000.0  \n",
      "This is the Monthly Salary for Male:  243000.0\n",
      "This is the Annual Salary for Male:  2916000.0\n",
      "This is the Hourly Salary for Male:  1446.4285714285713\n",
      "This is the Overtime Salary for Male:  1735.7142857142856\n",
      "This is the Bonus Pay for Male:  3018240.0\n"
     ]
    }
   ],
   "source": [
    "#sum of all salaries by gender(Males)\n",
    "\n",
    "dev_male = dev_salariespd.loc[(dev_salariespd['Gender'] == 'Male')] #Access the Male Gender first\n",
    "print(dev_male)\n",
    "\n",
    "print('This is the Monthly Salary for Male: ', dev_male['Monthly Salary'].sum()) #Sum the Monthly salary\n",
    "print('This is the Annual Salary for Male: ', dev_male['Annual Salary'].sum())# = 19560000\n",
    "print('This is the Hourly Salary for Male: ', dev_male['Hourly Salary'].sum()) # = 970.2380952380953\n",
    "print('This is the Overtime Salary for Male: ', dev_male['Overtime Salary'].sum()) # = 1164.2857142857142\n",
    "print('This is the Bonus Pay for Male: ', dev_male['Bonus Pay'].sum()) # = 2023440.0\n",
    "\n"
   ]
  },
  {
   "cell_type": "code",
   "execution_count": 18,
   "metadata": {},
   "outputs": [
    {
     "name": "stdout",
     "output_type": "stream",
     "text": [
      "   Gender Countries Gender/Country         Region  Monthly Salary  \\\n",
      "0  Female       USA          F-USA  North America         40000.0   \n",
      "1    Male       USA          M-USA  North America         50000.0   \n",
      "\n",
      "   Hourly Salary  Annual Salary  Overtime Salary  Bonus Pay  \n",
      "0     238.095238       480000.0       285.714286   499200.0  \n",
      "1     297.619048       600000.0       357.142857   624000.0  \n",
      "This is the Monthly Salary for North America:  90000.0\n",
      "This is the Annual Salary for North America:  1080000.0\n",
      "This is the Hourly Salary for North America:  535.7142857142857\n",
      "This is the Overtime Salary for North America:  642.8571428571429\n",
      "This is the Bonus Pay for North America:  1123200.0\n",
      "   Gender Countries Gender/Country         Region  Monthly Salary  \\\n",
      "2  Female    Brazil       F-Brazil  South America         35000.0   \n",
      "3    Male    Brazil       M-Brazil  South America         45000.0   \n",
      "\n",
      "   Hourly Salary  Annual Salary  Overtime Salary  Bonus Pay  \n",
      "2     208.333333       420000.0       250.000000   432600.0  \n",
      "3     267.857143       540000.0       321.428571   556200.0  \n",
      "This is the Monthly Salary for South America:  80000.0\n",
      "This is the Annual Salary for South America:  960000.0\n",
      "This is the Hourly Salary for South America:  476.19047619047615\n",
      "This is the Overtime Salary for South America:  571.4285714285713\n",
      "This is the Bonus Pay for South America:  988800.0\n",
      "   Gender Countries Gender/Country  Region  Monthly Salary  Hourly Salary  \\\n",
      "4  Female   Nigeria          F-Nig  Africa         23000.0     136.904762   \n",
      "5    Male   Nigeria          M-Nig  Africa         53000.0     315.476190   \n",
      "6  Female    Uganda       F-Uganda  Africa         10000.0      59.523810   \n",
      "7    Male    Uganda       M-Uganda  Africa         20000.0     119.047619   \n",
      "\n",
      "   Annual Salary  Overtime Salary  Bonus Pay  \n",
      "4       276000.0       164.285714   287040.0  \n",
      "5       636000.0       378.571429   661440.0  \n",
      "6       120000.0        71.428571   124800.0  \n",
      "7       240000.0       142.857143   249600.0  \n",
      "This is the Monthly Salary for Africa:  106000.0\n",
      "This is the Annual Salary for Africa:  1272000.0\n",
      "This is the Hourly Salary for Africa:  630.952380952381\n",
      "This is the Overtime Salary for Africa:  757.1428571428572\n",
      "This is the Bonus Pay for Africa:  1322880.0\n",
      "   Gender Countries Gender/Country Region  Monthly Salary  Hourly Salary  \\\n",
      "8  Female     China        F-China   Asia         55000.0     327.380952   \n",
      "9    Male     China        M-China   Asia         75000.0     446.428571   \n",
      "\n",
      "   Annual Salary  Overtime Salary  Bonus Pay  \n",
      "8       660000.0       392.857143   679800.0  \n",
      "9       900000.0       535.714286   927000.0  \n",
      "This is the Monthly Salary for Asia:  130000.0\n",
      "This is the Annual Salary for Asia:  1560000.0\n",
      "This is the Hourly Salary for Asia:  773.8095238095239\n",
      "This is the Overtime Salary for Asia:  928.5714285714287\n",
      "This is the Bonus Pay for Asia:  1606800.0\n"
     ]
    }
   ],
   "source": [
    "#sum of all salaries by region (North America, South America, Africa, Asia)\n",
    "\n",
    "dev_na = dev_salariespd.loc[(dev_salariespd['Region'] == 'North America')] #Access the North America\n",
    "print(dev_na)\n",
    "\n",
    "print('This is the Monthly Salary for North America: ', dev_na['Monthly Salary'].sum())\n",
    "print('This is the Annual Salary for North America: ', dev_na['Annual Salary'].sum())\n",
    "print('This is the Hourly Salary for North America: ', dev_na['Hourly Salary'].sum())\n",
    "print('This is the Overtime Salary for North America: ', dev_na['Overtime Salary'].sum())\n",
    "print('This is the Bonus Pay for North America: ', dev_na['Bonus Pay'].sum())\n",
    "\n",
    "\n",
    "dev_sa = dev_salariespd.loc[(dev_salariespd['Region'] == 'South America')] #Access the South America region\n",
    "print(dev_sa)\n",
    "\n",
    "print('This is the Monthly Salary for South America: ', dev_sa['Monthly Salary'].sum())\n",
    "print('This is the Annual Salary for South America: ', dev_sa['Annual Salary'].sum())\n",
    "print('This is the Hourly Salary for South America: ', dev_sa['Hourly Salary'].sum())\n",
    "print('This is the Overtime Salary for South America: ', dev_sa['Overtime Salary'].sum())\n",
    "print('This is the Bonus Pay for South America: ', dev_sa['Bonus Pay'].sum())\n",
    "\n",
    "\n",
    "dev_afr = dev_salariespd.loc[(dev_salariespd['Region'] == 'Africa')] #Access the Africa Region\n",
    "print(dev_afr)\n",
    "\n",
    "print('This is the Monthly Salary for Africa: ', dev_afr['Monthly Salary'].sum())\n",
    "print('This is the Annual Salary for Africa: ', dev_afr['Annual Salary'].sum())\n",
    "print('This is the Hourly Salary for Africa: ', dev_afr['Hourly Salary'].sum())\n",
    "print('This is the Overtime Salary for Africa: ', dev_afr['Overtime Salary'].sum())\n",
    "print('This is the Bonus Pay for Africa: ', dev_afr['Bonus Pay'].sum())\n",
    "\n",
    "\n",
    "\n",
    "dev_asia = dev_salariespd.loc[(dev_salariespd['Region'] == 'Asia')] #Access the Asia Region\n",
    "print(dev_asia)\n",
    "\n",
    "print('This is the Monthly Salary for Asia: ', dev_asia['Monthly Salary'].sum())\n",
    "print('This is the Annual Salary for Asia: ', dev_asia['Annual Salary'].sum())\n",
    "print('This is the Hourly Salary for Asia: ', dev_asia['Hourly Salary'].sum())\n",
    "print('This is the Overtime Salary for Asia: ', dev_asia['Overtime Salary'].sum())\n",
    "print('This is the Bonus Pay for Asia: ', dev_asia['Bonus Pay'].sum())\n"
   ]
  },
  {
   "cell_type": "code",
   "execution_count": 19,
   "metadata": {},
   "outputs": [
    {
     "name": "stdout",
     "output_type": "stream",
     "text": [
      "This is the mean of all the Monthly, Annual, Hourly, Overtime and Bonus Pay\n"
     ]
    },
    {
     "data": {
      "text/plain": [
       "Monthly Salary      40600.000000\n",
       "Hourly Salary         241.666667\n",
       "Annual Salary      487200.000000\n",
       "Overtime Salary       290.000000\n",
       "Bonus Pay          504168.000000\n",
       "dtype: float64"
      ]
     },
     "execution_count": 19,
     "metadata": {},
     "output_type": "execute_result"
    }
   ],
   "source": [
    "\n",
    "#Mean, Median, Maximum, Minimum, Standard Deviation, Variance\n",
    "#Passing the argument of axis=0 returns the mean of every single column in the DataFrame:\n",
    "\n",
    "print('This is the mean of all the Monthly, Annual, Hourly, Overtime and Bonus Pay')\n",
    "dev_salariespd.mean(axis=0)\n"
   ]
  },
  {
   "cell_type": "code",
   "execution_count": 20,
   "metadata": {},
   "outputs": [
    {
     "name": "stdout",
     "output_type": "stream",
     "text": [
      "This is the median of all the Monthly, Annual, Hourly, Overtime and Bonus Pay\n"
     ]
    },
    {
     "data": {
      "text/plain": [
       "Monthly Salary      42500.000000\n",
       "Hourly Salary         252.976190\n",
       "Annual Salary      510000.000000\n",
       "Overtime Salary       303.571429\n",
       "Bonus Pay          527700.000000\n",
       "dtype: float64"
      ]
     },
     "execution_count": 20,
     "metadata": {},
     "output_type": "execute_result"
    }
   ],
   "source": [
    "#Calculate the Median\n",
    "\n",
    "print('This is the median of all the Monthly, Annual, Hourly, Overtime and Bonus Pay')\n",
    "dev_salariespd.median(axis=0)\n"
   ]
  },
  {
   "cell_type": "code",
   "execution_count": 21,
   "metadata": {},
   "outputs": [
    {
     "name": "stdout",
     "output_type": "stream",
     "text": [
      "This is the max of all the Monthly, Annual, Hourly, Overtime and Bonus Pay\n"
     ]
    },
    {
     "data": {
      "text/plain": [
       "Gender                      Male\n",
       "Countries                 Uganda\n",
       "Gender/Country          M-Uganda\n",
       "Region             South America\n",
       "Monthly Salary             75000\n",
       "Hourly Salary            446.429\n",
       "Annual Salary             900000\n",
       "Overtime Salary          535.714\n",
       "Bonus Pay                 927000\n",
       "dtype: object"
      ]
     },
     "execution_count": 21,
     "metadata": {},
     "output_type": "execute_result"
    }
   ],
   "source": [
    "#Calculate the max value\n",
    "\n",
    "print('This is the max of all the Monthly, Annual, Hourly, Overtime and Bonus Pay')\n",
    "dev_salariespd.max(axis=0)\n"
   ]
  },
  {
   "cell_type": "code",
   "execution_count": 22,
   "metadata": {},
   "outputs": [
    {
     "name": "stdout",
     "output_type": "stream",
     "text": [
      "This is the min of all the Monthly, Annual, Hourly, Overtime and Bonus Pay\n"
     ]
    },
    {
     "data": {
      "text/plain": [
       "Gender               Female\n",
       "Countries            Brazil\n",
       "Gender/Country     F-Brazil\n",
       "Region               Africa\n",
       "Monthly Salary        10000\n",
       "Hourly Salary       59.5238\n",
       "Annual Salary        120000\n",
       "Overtime Salary     71.4286\n",
       "Bonus Pay            124800\n",
       "dtype: object"
      ]
     },
     "execution_count": 22,
     "metadata": {},
     "output_type": "execute_result"
    }
   ],
   "source": [
    "#Calculate the min\n",
    "\n",
    "print('This is the min of all the Monthly, Annual, Hourly, Overtime and Bonus Pay')\n",
    "dev_salariespd.min(axis=0)\n"
   ]
  },
  {
   "cell_type": "code",
   "execution_count": 23,
   "metadata": {},
   "outputs": [
    {
     "name": "stdout",
     "output_type": "stream",
     "text": [
      "This is the standard deviation of all the Monthly, Annual, Hourly, Overtime and Bonus Pay\n"
     ]
    },
    {
     "data": {
      "text/plain": [
       "Monthly Salary      19305.727417\n",
       "Hourly Salary         114.915044\n",
       "Annual Salary      231668.729008\n",
       "Overtime Salary       137.898053\n",
       "Bonus Pay          238618.988012\n",
       "dtype: float64"
      ]
     },
     "execution_count": 23,
     "metadata": {},
     "output_type": "execute_result"
    }
   ],
   "source": [
    "#Calculate the Standard Deviation\n",
    "\n",
    "print('This is the standard deviation of all the Monthly, Annual, Hourly, Overtime and Bonus Pay')\n",
    "dev_salariespd.std(axis=0)\n"
   ]
  },
  {
   "cell_type": "code",
   "execution_count": 24,
   "metadata": {},
   "outputs": [
    {
     "name": "stdout",
     "output_type": "stream",
     "text": [
      "This is the Variance of all the Monthly, Annual, Hourly, Overtime and Bonus Pay\n"
     ]
    },
    {
     "data": {
      "text/plain": [
       "Monthly Salary     3.727111e+08\n",
       "Hourly Salary      1.320547e+04\n",
       "Annual Salary      5.367040e+10\n",
       "Overtime Salary    1.901587e+04\n",
       "Bonus Pay          5.693902e+10\n",
       "dtype: float64"
      ]
     },
     "execution_count": 24,
     "metadata": {},
     "output_type": "execute_result"
    }
   ],
   "source": [
    "#Calculate the Variance \n",
    "\n",
    "print('This is the Variance of all the Monthly, Annual, Hourly, Overtime and Bonus Pay')\n",
    "dev_salariespd.var(axis=0)"
   ]
  },
  {
   "cell_type": "markdown",
   "metadata": {},
   "source": [
    "# USING MATPLOTLIB\n",
    "1. Create a line plot of salaries against gender\n",
    "a. Line style must be dotted and color blue\n",
    "b. Show legend at the top right of location\n",
    "c. X-label is gender\n",
    "d. Y-label is salaries\n",
    "e. Line width must be 3"
   ]
  },
  {
   "cell_type": "code",
   "execution_count": 25,
   "metadata": {},
   "outputs": [
    {
     "data": {
      "image/png": "[encoded data removed]",
      "text/plain": [
       "<Figure size 432x288 with 1 Axes>"
      ]
     },
     "metadata": {
      "needs_background": "light"
     },
     "output_type": "display_data"
    }
   ],
   "source": [
    "import matplotlib.pyplot as plt\n",
    "\n",
    "# Function to plot \n",
    "plt.plot(dev_salariespd['Gender/Country'], dev_salariespd['Monthly Salary'], ':b', marker='o', markerfacecolor='green', markersize=12, linewidth=3 ) \n",
    "plt.title(\"A Line plot of Monthly Salaries against Gender \", pad=10, fontsize=14, color='Blue')\n",
    "plt.xlabel(\"Gender/Country\",fontsize=12, color='Blue')\n",
    "plt.ylabel(\"Monthly Salary\", fontsize=12, color='Blue')\n",
    "plt.legend([\"Gender/Country\", 'Monthly Salary'], loc='upper right')\n",
    "\n",
    "# tilting the ticks (usually needed because the ticks are densely populated) \n",
    "plt.tick_params(axis ='x', rotation = 45) \n",
    "\n",
    " \n",
    "# function to show the plot \n",
    "plt.show() "
   ]
  },
  {
   "cell_type": "code",
   "execution_count": 80,
   "metadata": {},
   "outputs": [
    {
     "data": {
      "image/png": "[encoded data removed]",
      "text/plain": [
       "<Figure size 432x288 with 1 Axes>"
      ]
     },
     "metadata": {
      "needs_background": "light"
     },
     "output_type": "display_data"
    }
   ],
   "source": [
    "import matplotlib.pyplot as plt\n",
    "\n",
    "# Function to plot \n",
    "plt.plot(dev_salariespd['Gender/Country'], dev_salariespd['Annual Salary'], ':b', marker='o', markerfacecolor='green', markersize=12, linewidth=3)\n",
    "plt.title(\"A Line plot of Annual Salaries against Gender \", pad=10, fontsize=14, color='Blue')\n",
    "plt.xlabel(\"Gender/Country\", fontsize=12, color='Blue')\n",
    "plt.ylabel(\"Annual Salary\", fontsize=12, color='Blue')\n",
    "plt.legend([\"Gender/Country\", 'Annual Salary'], loc='upper right')\n",
    "\n",
    "# tilting the ticks (usually needed when \n",
    "# the ticks are densely populated) \n",
    "plt.tick_params(axis ='x', rotation = 45) \n",
    "  \n",
    "# function to show the plot \n",
    "plt.show()"
   ]
  },
  {
   "cell_type": "code",
   "execution_count": 26,
   "metadata": {},
   "outputs": [
    {
     "data": {
      "image/png": "[encoded data removed]",
      "text/plain": [
       "<Figure size 432x288 with 1 Axes>"
      ]
     },
     "metadata": {
      "needs_background": "light"
     },
     "output_type": "display_data"
    }
   ],
   "source": [
    "import matplotlib.pyplot as plt\n",
    "\n",
    "# Function to plot \n",
    "plt.plot(dev_salariespd['Gender/Country'], dev_salariespd['Hourly Salary'], ':b', marker='o', markerfacecolor='green', markersize=12, linewidth=3)\n",
    "plt.title(\"A Line plot of Hourly Salaries against Gender \", pad=10, fontsize=14, color='Blue')\n",
    "plt.xlabel(\"Gender/Country\",fontsize=12, color='Blue')\n",
    "plt.ylabel(\"Hourly Salary\", fontsize=12, color='Blue')\n",
    "plt.legend([\"Gender/Country\", 'Monthly Salary'], loc='upper right')\n",
    "\n",
    "# tilting the ticks (usually needed when \n",
    "# the ticks are densely populated) \n",
    "plt.tick_params(axis ='x', rotation = 45) \n",
    "  \n",
    "# function to show the plot \n",
    "plt.show()"
   ]
  },
  {
   "cell_type": "code",
   "execution_count": 27,
   "metadata": {},
   "outputs": [
    {
     "data": {
      "image/png": "[encoded data removed]",
      "text/plain": [
       "<Figure size 432x288 with 1 Axes>"
      ]
     },
     "metadata": {
      "needs_background": "light"
     },
     "output_type": "display_data"
    }
   ],
   "source": [
    "import matplotlib.pyplot as plt\n",
    "\n",
    "# Function to plot \n",
    "\n",
    "plt.plot(dev_salariespd['Gender/Country'], dev_salariespd['Overtime Salary'], ':b', marker='o', markerfacecolor='green', markersize=12, linewidth=3)\n",
    "plt.title(\"A Line plot of Overtime Salaries against Gender \", pad=10, fontsize=14, color='Blue')\n",
    "plt.xlabel(\"Gender/Country\", fontsize=12, color='Blue')\n",
    "plt.ylabel(\"Overtime Salary\", fontsize=12, color='Blue')\n",
    "plt.legend([\"Gender/Country\", 'Overtime Salary'], loc='upper right')\n",
    "\n",
    "# tilting the ticks (usually needed when \n",
    "# the ticks are densely populated) \n",
    "plt.tick_params(axis ='x', rotation = 45) \n",
    "\n",
    "# function to show the plot \n",
    "plt.show()"
   ]
  },
  {
   "cell_type": "code",
   "execution_count": 85,
   "metadata": {},
   "outputs": [
    {
     "data": {
      "image/png": "[encoded data removed]",
      "text/plain": [
       "<Figure size 432x288 with 1 Axes>"
      ]
     },
     "metadata": {
      "needs_background": "light"
     },
     "output_type": "display_data"
    }
   ],
   "source": [
    "import matplotlib.pyplot as plt\n",
    "\n",
    "# Function to plot \n",
    "plt.plot(dev_salariespd['Gender/Country'], dev_salariespd['Bonus Pay'],':b', marker='o', markerfacecolor='green', markersize=12, linewidth=3 )\n",
    "plt.title(\"A Line plot of Bonus Pay against Gender \", pad=10, fontsize=14, color='Blue')\n",
    "plt.xlabel(\"Gender/Country\", fontsize=12, color='Blue')\n",
    "plt.ylabel(\"Bonus Pay\", fontsize=12, color='Blue')\n",
    "plt.legend([\"Gender/Country\", 'Bonus Pay'], loc='upper right')\n",
    "\n",
    "# tilting the ticks (usually needed when \n",
    "# the ticks are densely populated) \n",
    "plt.tick_params(axis ='x', rotation = 45) \n",
    "  \n",
    "# function to show the plot \n",
    "plt.show()"
   ]
  },
  {
   "cell_type": "markdown",
   "metadata": {},
   "source": [
    "# Get total of each country's salaries and their genders and show it in 'composite' bar chart\n",
    "a) The male bar should in green while the female bar in yellow\n",
    "b) x label is the gender and y-label the salary"
   ]
  },
  {
   "cell_type": "markdown",
   "metadata": {},
   "source": [
    "## Calculate the annual salary of each developer and show it in a piechart"
   ]
  },
  {
   "cell_type": "code",
   "execution_count": 28,
   "metadata": {},
   "outputs": [
    {
     "data": {
      "image/png": "[encoded data removed]",
      "text/plain": [
       "<Figure size 432x288 with 1 Axes>"
      ]
     },
     "metadata": {},
     "output_type": "display_data"
    }
   ],
   "source": [
    "import matplotlib.pyplot as plt\n",
    "\n",
    "# Data to plot\n",
    "labels = dev_salariespd[\"Gender/Country\"]\n",
    "sizes = dev_salariespd[\"Annual Salary\"]\n",
    "colors = ['gold', 'yellowgreen', 'lightcoral', 'lightskyblue', 'yellow', 'orange', 'blue', 'red', 'purple', 'green']\n",
    "explode = (0.1, 0.1, 0.1, 0.1, 0.1, 0.1, 0.1, 0.1, 0.1, 0.1)  # explode 1st slice\n",
    "\n",
    "# Plot\n",
    "plt.pie(sizes, explode=explode, labels=labels, colors=colors, autopct='%1.2f%%', shadow=True, radius = 2)  #autopct='%1.1f%%' to format to the hundredth place\n",
    "plt.title(\"A Pie Chart showing the Percentage of Annual Salaries amongst Genders and Countries\", pad=25, fontsize=14, color='Blue')\n",
    "plt.axis('equal')\n",
    "plt.show()  \n"
   ]
  },
  {
   "cell_type": "markdown",
   "metadata": {},
   "source": [
    "## Create a stackplot of the bonus of developer and their regions"
   ]
  },
  {
   "cell_type": "code",
   "execution_count": 41,
   "metadata": {},
   "outputs": [
    {
     "data": {
      "image/png": "[encoded data removed]",
      "text/plain": [
       "<Figure size 432x288 with 1 Axes>"
      ]
     },
     "metadata": {
      "needs_background": "light"
     },
     "output_type": "display_data"
    }
   ],
   "source": [
    "plt.stackplot(dev_salariespd['Region'], dev_salariespd['Bonus Pay'])\n",
    "plt.legend(labels = dev_salariespd['Region'])\n",
    "\n",
    "plt.title('A Stackplot showing the bonus of developers and their regions', pad=15, fontsize=14, color='Blue')\n",
    "plt.xlabel('Regions')\n",
    "plt.ylabel('Bonus Pay')\n",
    "\n",
    "plt.show()"
   ]
  }
 ],
 "metadata": {
  "kernelspec": {
   "display_name": "Python 3",
   "language": "python",
   "name": "python3"
  },
  "language_info": {
   "codemirror_mode": {
    "name": "ipython",
    "version": 3
   },
   "file_extension": ".py",
   "mimetype": "text/x-python",
   "name": "python",
   "nbconvert_exporter": "python",
   "pygments_lexer": "ipython3",
   "version": "3.7.4"
  }
 },
 "nbformat": 4,
 "nbformat_minor": 2
}
